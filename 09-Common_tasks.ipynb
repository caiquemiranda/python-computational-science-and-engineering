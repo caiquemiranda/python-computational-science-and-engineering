{
 "cells": [
  {
   "cell_type": "code",
   "execution_count": 1,
   "metadata": {},
   "outputs": [
    {
     "name": "stdout",
     "output_type": "stream",
     "text": [
      "Versão de Python Neste Jupyter Notebook: 3.10.5\n"
     ]
    }
   ],
   "source": [
    "# Versão da Linguagem Python\n",
    "from platform import python_version\n",
    "print('Versão de Python Neste Jupyter Notebook:', python_version())\n",
    "\n",
    "# usaremos o filtro 'warning' para deixar mais limpo.\n",
    "import warnings\n",
    "warnings.filterwarnings('ignore')"
   ]
  },
  {
   "attachments": {},
   "cell_type": "markdown",
   "metadata": {},
   "source": [
    "### Many ways to compute a series"
   ]
  },
  {
   "cell_type": "code",
   "execution_count": 2,
   "metadata": {},
   "outputs": [
    {
     "name": "stdout",
     "output_type": "stream",
     "text": [
      "this result is 12, expected to be 12\n"
     ]
    }
   ],
   "source": [
    "def compute_sum1(n):\n",
    "    \"\"\"computes and returns the sum of 2,4,6, ..., m\n",
    "    where m is the largest even number smaller than n.\n",
    "    For example, with n = 7, we compute 0+2+4+6 = 12.\n",
    "    This implementation uses a variable 'mysum' that is\n",
    "    increased in every iteration of the for-loop.\"\"\"\n",
    "    \n",
    "    mysum = 0\n",
    "    for i in range(0, n, 2):\n",
    "        mysum = mysum + i\n",
    "    \n",
    "    return mysum\n",
    "\n",
    "\n",
    "def compute_sum2(n):\n",
    "    \"\"\"computes and returns ...\n",
    "    This implementation uses a while-loop:\n",
    "    \"\"\"\n",
    "    \n",
    "    counter = 0\n",
    "    mysum = 0\n",
    "    while counter < n:\n",
    "        mysum = mysum + counter\n",
    "        counter = counter + 2\n",
    "    \n",
    "    return mysum\n",
    "\n",
    "\n",
    "def compute_sum3(n, startfrom=0):\n",
    "    \"\"\"computes and returns ...\n",
    "    This is a recursive implementation:\"\"\"\n",
    "    \n",
    "    if n <= startfrom:\n",
    "        return 0\n",
    "    else:\n",
    "        return startfrom + compute_sum3(n, startfrom + 2)\n",
    "\n",
    "\n",
    "def compute_sum4a(n):\n",
    "    \"\"\"A functional approach ... this seems to be\n",
    "    the shortest and most concise code.\n",
    "    \"\"\"\n",
    "    \n",
    "    return sum(range(0, n, 2))\n",
    "\n",
    "from functools import reduce\n",
    "\n",
    "\n",
    "def compute_sum4b(n):\n",
    "    \"\"\"A functional approach ... not making use of 'sum' which\n",
    "    happens to exist and is of course convenient here.\n",
    "    \"\"\"\n",
    "\n",
    "    return reduce(lambda a, b: a + b, range(0, n, 2))\n",
    "\n",
    "\n",
    "def compute_sum4c(n):\n",
    "    \"\"\"A functional approach ... a bit faster than compute_sum4b\n",
    "    as we avoid using lambda.\n",
    "    \"\"\"\n",
    "\n",
    "    import operator\n",
    "    return reduce(operator.__add__, range(0, n, 2))\n",
    "\n",
    "\n",
    "def compute_sum4d(n):\n",
    "    \"\"\"Using list comprehension.\"\"\"\n",
    "\n",
    "    return sum([k for k in range(0, n, 2)])\n",
    "\n",
    "\n",
    "def compute_sum4e(n):\n",
    "    \"\"\"Using another variation of list comprehension.\"\"\"\n",
    "\n",
    "    return sum([k for k in range(0, n) if k % 2 == 0])\n",
    "\n",
    "\n",
    "def compute_sum5(n):\n",
    "    \"\"\"Using numerical python (numpy). This is very fast\n",
    "    (but would only pay off if n >> 10).\"\"\"\n",
    "\n",
    "    import numpy\n",
    "    return numpy.sum(2 * numpy.arange(0, (n + 1) // 2))\n",
    "\n",
    "\n",
    "def test_consistency():\n",
    "    \"\"\"Check that all compute_sum?? functions in this file produce\n",
    "    the same answer for all n>=2 and <N.\n",
    "    \"\"\"\n",
    "    \n",
    "    def check_one_n(n):\n",
    "        \"\"\"Compare the output of compute_sum1 with all other functions\n",
    "        for a given n>=2. Raise AssertionError if outputs disagree.\"\"\"\n",
    "    \n",
    "        funcs = [compute_sum1, compute_sum2, \n",
    "                 compute_sum3, compute_sum4a,\n",
    "                 compute_sum4b, compute_sum4c,\n",
    "                 compute_sum4d, compute_sum4e,\n",
    "                 compute_sum5]\n",
    "        \n",
    "        ans1 = compute_sum1(n)\n",
    "        \n",
    "        for f in funcs[1:]:\n",
    "            assert ans1 == f(n), \"%s(n)=%d not the same as %s(n)=%d \" \\\n",
    "                % (funcs[0], funcs[0](n), f, f(n))\n",
    "        \n",
    "        #main testing loop in test_consistency function\n",
    "        for n in range(2, 1000):\n",
    "            check_one_n(n)\n",
    "\n",
    "\n",
    "if __name__ == \"__main__\":\n",
    "\n",
    "    m = 7\n",
    "    correct_result = 12\n",
    "    thisresult = compute_sum1(m)\n",
    "    \n",
    "    print(\"this result is {}, expected to be {}\".format(thisresult, \n",
    "                                                        correct_result))\n",
    "    \n",
    "    # compare with correct result\n",
    "    assert thisresult == correct_result\n",
    "    \n",
    "    # also check all other methods\n",
    "    assert compute_sum2(m) == correct_result\n",
    "    assert compute_sum3(m) == correct_result\n",
    "    assert compute_sum4a(m) == correct_result\n",
    "    assert compute_sum4b(m) == correct_result\n",
    "    assert compute_sum4c(m) == correct_result\n",
    "    assert compute_sum4d(m) == correct_result\n",
    "    assert compute_sum4e(m) == correct_result\n",
    "    assert compute_sum5(m) == correct_result\n",
    "\n",
    "    # a more systematic check for many values\n",
    "    test_consistency()"
   ]
  },
  {
   "attachments": {},
   "cell_type": "markdown",
   "metadata": {},
   "source": [
    "### Sorting"
   ]
  },
  {
   "cell_type": "code",
   "execution_count": 3,
   "metadata": {},
   "outputs": [],
   "source": [
    "mylist = [(\"fangohr\", \"Hans Fangohr\",),\n",
    "          (\"admin\", \"The Administrator\"),\n",
    "          (\"guest\", \"The Guest\")]"
   ]
  },
  {
   "cell_type": "code",
   "execution_count": 4,
   "metadata": {},
   "outputs": [
    {
     "name": "stdout",
     "output_type": "stream",
     "text": [
      "[('admin', 'The Administrator'), ('fangohr', 'Hans Fangohr'), ('guest', 'The Guest')]\n"
     ]
    }
   ],
   "source": [
    "stuff = mylist # collect your data\n",
    "stuff.sort() # sort the data in place\n",
    "print(stuff) # inspect the sorted data"
   ]
  },
  {
   "cell_type": "code",
   "execution_count": 5,
   "metadata": {},
   "outputs": [
    {
     "data": {
      "text/plain": [
       "True"
      ]
     },
     "execution_count": 5,
     "metadata": {},
     "output_type": "execute_result"
    }
   ],
   "source": [
    "(2,0) > (1,0)"
   ]
  },
  {
   "cell_type": "code",
   "execution_count": 6,
   "metadata": {},
   "outputs": [
    {
     "data": {
      "text/plain": [
       "True"
      ]
     },
     "execution_count": 6,
     "metadata": {},
     "output_type": "execute_result"
    }
   ],
   "source": [
    "(2,1) > (1,3)"
   ]
  },
  {
   "cell_type": "code",
   "execution_count": 7,
   "metadata": {},
   "outputs": [
    {
     "data": {
      "text/plain": [
       "False"
      ]
     },
     "execution_count": 7,
     "metadata": {},
     "output_type": "execute_result"
    }
   ],
   "source": [
    "(2,1) > (2,1)"
   ]
  },
  {
   "cell_type": "code",
   "execution_count": 8,
   "metadata": {},
   "outputs": [
    {
     "data": {
      "text/plain": [
       "True"
      ]
     },
     "execution_count": 8,
     "metadata": {},
     "output_type": "execute_result"
    }
   ],
   "source": [
    "(2,2) > (2,1)"
   ]
  },
  {
   "cell_type": "code",
   "execution_count": 9,
   "metadata": {},
   "outputs": [],
   "source": [
    "stuff = sorted(stuff)"
   ]
  },
  {
   "cell_type": "code",
   "execution_count": 10,
   "metadata": {},
   "outputs": [],
   "source": [
    "mylist2 = [(\"Hans Fangohr\", \"fangohr\"),\n",
    "           (\"The Administrator\", \"admin\"),\n",
    "           (\"The Guest\", \"guest\")]"
   ]
  },
  {
   "cell_type": "code",
   "execution_count": 11,
   "metadata": {},
   "outputs": [
    {
     "name": "stdout",
     "output_type": "stream",
     "text": [
      "Help on built-in function sorted in module builtins:\n",
      "\n",
      "sorted(iterable, /, *, key=None, reverse=False)\n",
      "    Return a new list containing all items from the iterable in ascending order.\n",
      "    \n",
      "    A custom key function can be supplied to customize the sort order, and the\n",
      "    reverse flag can be set to request the result in descending order.\n",
      "\n"
     ]
    }
   ],
   "source": [
    "# NBVAL_IGNORE_OUTPUT\n",
    "help(sorted)"
   ]
  },
  {
   "cell_type": "code",
   "execution_count": 12,
   "metadata": {},
   "outputs": [],
   "source": [
    "def my_key(pair):\n",
    "    return pair[1]"
   ]
  },
  {
   "cell_type": "code",
   "execution_count": 13,
   "metadata": {},
   "outputs": [],
   "source": [
    "mylist2.sort(key = my_key)"
   ]
  },
  {
   "cell_type": "code",
   "execution_count": 14,
   "metadata": {},
   "outputs": [],
   "source": [
    "mylist2.sort(key = lambda p: p[1])"
   ]
  },
  {
   "cell_type": "code",
   "execution_count": 15,
   "metadata": {},
   "outputs": [
    {
     "name": "stdout",
     "output_type": "stream",
     "text": [
      "Author: Caique Miranda\n",
      "\n",
      "Github username: caiquemiranda\n",
      "\n"
     ]
    }
   ],
   "source": [
    "%reload_ext watermark\n",
    "%watermark -a \"Caique Miranda\" -gu \"caiquemiranda\" -iv"
   ]
  },
  {
   "attachments": {},
   "cell_type": "markdown",
   "metadata": {},
   "source": [
    "### End."
   ]
  }
 ],
 "metadata": {
  "kernelspec": {
   "display_name": "Python 3",
   "language": "python",
   "name": "python3"
  },
  "language_info": {
   "codemirror_mode": {
    "name": "ipython",
    "version": 3
   },
   "file_extension": ".py",
   "mimetype": "text/x-python",
   "name": "python",
   "nbconvert_exporter": "python",
   "pygments_lexer": "ipython3",
   "version": "3.10.5"
  },
  "orig_nbformat": 4
 },
 "nbformat": 4,
 "nbformat_minor": 2
}
